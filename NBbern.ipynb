{
 "cells": [
  {
   "cell_type": "code",
   "execution_count": 16,
   "metadata": {
    "colab": {
     "base_uri": "https://localhost:8080/"
    },
    "id": "gBsOSdgUSJGg",
    "outputId": "ade4f044-850a-4fe2-a1df-32af7e65a55e"
   },
   "outputs": [
    {
     "name": "stdout",
     "output_type": "stream",
     "text": [
      "3998\n"
     ]
    },
    {
     "name": "stderr",
     "output_type": "stream",
     "text": [
      "100%|██████████| 25000/25000 [06:01<00:00, 69.10it/s]\n",
      "100%|██████████| 25000/25000 [05:38<00:00, 73.94it/s]\n"
     ]
    }
   ],
   "source": [
    "import tensorflow as tf\n",
    "import numpy as np\n",
    "from tqdm import tqdm\n",
    "    \n",
    "#func for getting data, creating vocabulary and creating binary vectors for training and testing\n",
    "#getting data from database, and indexing it in to words\n",
    "(x_train, y_train), (x_test, y_test) = tf.keras.datasets.imdb.load_data(num_words=4000)#importing data,y->0 for negative 1 for postitive.\n",
    "word_index = tf.keras.datasets.imdb.get_word_index()\n",
    "index2word = dict((i + 3, word) for (word, i) in word_index.items())#indexing words\n",
    "index2word[0] = '[pad]'\n",
    "index2word[1] = '[bos]' \n",
    "index2word[2] = '[oov]'\n",
    "x_train = np.array([' '.join([index2word[idx] for idx in text]) for text in x_train])#final train data\n",
    "x_test = np.array([' '.join([index2word[idx] for idx in text]) for text in x_test])#final test data\n",
    "#vocabulary: Add all words to a set\n",
    "vocabulary = list()\n",
    "for text in x_train:\n",
    "    tokens = text.split()\n",
    "    vocabulary.extend(tokens)\n",
    "vocabulary = set(vocabulary)#final vocabulary set\n",
    "print(len(vocabulary))\n",
    "#vectoring: If word is in the review 1, if not 0\n",
    "x_train_binary = list()\n",
    "x_test_binary = list()\n",
    "for text in tqdm(x_train):#vectoring training data\n",
    "  tokens = text.split()\n",
    "  binary_vector = list()\n",
    "  for vocab_token in vocabulary:\n",
    "    if vocab_token in tokens:\n",
    "      binary_vector.append(1)\n",
    "    else:\n",
    "      binary_vector.append(0)\n",
    "  x_train_binary.append(binary_vector)\n",
    "x_train_binary = np.array(x_train_binary)\n",
    "for text in tqdm(x_test):#vectoring  test data\n",
    "  tokens = text.split()\n",
    "  binary_vector = list()\n",
    "  for vocab_token in vocabulary:\n",
    "    if vocab_token in tokens:\n",
    "      binary_vector.append(1)\n",
    "    else:\n",
    "      binary_vector.append(0)\n",
    "  x_test_binary.append(binary_vector)\n",
    "x_test_binary = np.array(x_test_binary)   \n",
    "\n",
    "\n"
   ]
  },
  {
   "cell_type": "code",
   "execution_count": 17,
   "metadata": {
    "id": "3HacNl1Zl82K"
   },
   "outputs": [],
   "source": [
    "def fit(x_train_binary,y_train):\n",
    "  prob_11=list()#probability of word existing and positive review\n",
    "  total=0#total words\n",
    "  for word in range(len(vocabulary)):#checking every work in vocab \n",
    "    counter=0#counter for specific word \n",
    "    for review in range(len(x_train_binary)):\n",
    "      if(x_train_binary[review][word]==1 and y_train[review]==1):\n",
    "        counter+=1\n",
    "        total+=1\n",
    "    prob_11.append(counter)#for every word in the vocab we have a counter on the cases is appeared and the review was positive\n",
    "  for word in range(len(prob_11)):\n",
    "    prob_11[word]=np.log((prob_11[word]+1)/(total+4000)) #generating loged probabilities for each word (diafaneies)\n",
    "  prob_10=list()#probability of word existing and positive review\n",
    "  total=0#total words\n",
    "  for word in range(len(vocabulary)):#checking every work in vocab \n",
    "    counter=0#counter for specific word \n",
    "    for review in range(len(x_train_binary)):\n",
    "      if(x_train_binary[review][word]==1 and y_train[review]==0):\n",
    "        counter+=1\n",
    "        total+=1\n",
    "    prob_10.append(counter)#for every word in the vocab we have a counter on the cases is appeared and the review was positive\n",
    "  for word in range(len(prob_10)):\n",
    "    prob_10[word]=np.log((prob_10[word]+1)/(total+4000)) #generating loged probabilities for each word (diafaneies)\n",
    "  prob_01=list()#probability of word existing and positive review\n",
    "  total=0#total words\n",
    "  for word in range(len(vocabulary)):#checking every work in vocab \n",
    "    counter=0#counter for specific word \n",
    "    for review in range(len(x_train_binary)):\n",
    "      if(x_train_binary[review][word]==0 and y_train[review]==1):\n",
    "        counter+=1\n",
    "        total+=1\n",
    "    prob_01.append(counter)#for every word in the vocab we have a counter on the cases is appeared and the review was positive\n",
    "  for word in range(len(prob_01)):\n",
    "    prob_01[word]=np.log((prob_01[word]+1)/(total+4000)) #generating loged probabilities for each word (diafaneies)\n",
    "  prob_00=list()#probability of word existing and positive review\n",
    "  total=0#total words\n",
    "  for word in range(len(vocabulary)):#checking every work in vocab \n",
    "    counter=0#counter for specific word \n",
    "    for review in range(len(x_train_binary)):\n",
    "      if(x_train_binary[review][word]==0 and y_train[review]==0):\n",
    "        counter+=1\n",
    "        total+=1\n",
    "    prob_00.append(counter)#for every word in the vocab we have a counter on the cases is appeared and the review was positive\n",
    "  for word in range(len(prob_00)):\n",
    "    prob_00[word]=np.log((prob_00[word]+1)/(total+4000)) #generating loged probabilities for each word (diafaneies)\n",
    "  return prob_00,prob_01,prob_10,prob_11"
   ]
  },
  {
   "cell_type": "code",
   "execution_count": 18,
   "metadata": {
    "id": "plq3Cubaill9"
   },
   "outputs": [],
   "source": [
    "from operator import pos\n",
    "from sklearn.metrics import classification_report\n",
    "lists=fit(x_train_binary,y_train)\n",
    "\n"
   ]
  },
  {
   "cell_type": "code",
   "execution_count": 19,
   "metadata": {
    "id": "Xm_24HM1-daL"
   },
   "outputs": [],
   "source": [
    "def predict_print(prob_00,prob_01,prob_10,prob_11,x_test_binary):\n",
    "  predictions=list()#list for predictions to be made\n",
    "  for review in x_test_binary:#for each review we will check each word and generate a probability for the outcome\n",
    "    neg_prob=np.log(0.5)#starting probabilities\n",
    "    pos_prob=np.log(0.5)\n",
    "    for word in range(len(review)):#checking each word\n",
    "      if (review[word]==0):#2 cases,word exists or word doesnt exist\n",
    "        neg_prob+=prob_00[word]#2 cases,positive or negative review\n",
    "        pos_prob+=prob_01[word]\n",
    "      else:\n",
    "        neg_prob+=prob_10[word]\n",
    "        pos_prob+=prob_11[word]\n",
    "    if (neg_prob>pos_prob):#checking highest probability\n",
    "      predictions.append(0)\n",
    "    elif(pos_prob>neg_prob):\n",
    "      predictions.append(1)\n",
    "    else: #if we generate the same probability, assume the review is positive\n",
    "      predictions.append(1)\n",
    "  print(classification_report(y_test, predictions, labels=[0, 1]))\n",
    "def predict(prob_00,prob_01,prob_10,prob_11,x_test_binary):\n",
    "  predictions=list()#list for predictions to be made\n",
    "  for review in x_test_binary:#for each review we will check each word and generate a probability for the outcome\n",
    "    neg_prob=np.log(0.5)#starting probabilities\n",
    "    pos_prob=np.log(0.5)\n",
    "    for word in range(len(review)):#checking each word\n",
    "      if (review[word]==0):#2 cases,word exists or word doesnt exist\n",
    "        neg_prob+=prob_00[word]#2 cases,positive or negative review\n",
    "        pos_prob+=prob_01[word]\n",
    "      else:\n",
    "        neg_prob+=prob_10[word]\n",
    "        pos_prob+=prob_11[word]\n",
    "    if (neg_prob>pos_prob):#checking highest probability\n",
    "      predictions.append(0)\n",
    "    elif(pos_prob>neg_prob):\n",
    "      predictions.append(1)\n",
    "    else: #if we generate the same probability, assume the review is positive\n",
    "      predictions.append(1)\n",
    "  return predictions\n"
   ]
  },
  {
   "cell_type": "code",
   "execution_count": 20,
   "metadata": {
    "colab": {
     "base_uri": "https://localhost:8080/"
    },
    "id": "dV0S1mvH-2ME",
    "outputId": "809a607d-c3f1-43d2-e4bc-a77e375785b9"
   },
   "outputs": [
    {
     "name": "stdout",
     "output_type": "stream",
     "text": [
      "              precision    recall  f1-score   support\n",
      "\n",
      "           0       0.83      0.85      0.84     12500\n",
      "           1       0.85      0.83      0.84     12500\n",
      "\n",
      "    accuracy                           0.84     25000\n",
      "   macro avg       0.84      0.84      0.84     25000\n",
      "weighted avg       0.84      0.84      0.84     25000\n",
      "\n"
     ]
    }
   ],
   "source": [
    "predict_print(lists[0],lists[1],lists[2],lists[3],x_test_binary)"
   ]
  },
  {
   "cell_type": "code",
   "execution_count": 21,
   "metadata": {
    "colab": {
     "base_uri": "https://localhost:8080/"
    },
    "id": "gcxDm65h9T5E",
    "outputId": "cc85361f-82bd-4991-bb42-bf1248637e4e"
   },
   "outputs": [
    {
     "name": "stdout",
     "output_type": "stream",
     "text": [
      "              precision    recall  f1-score   support\n",
      "\n",
      "           0       0.84      0.84      0.84     12500\n",
      "           1       0.84      0.84      0.84     12500\n",
      "\n",
      "    accuracy                           0.84     25000\n",
      "   macro avg       0.84      0.84      0.84     25000\n",
      "weighted avg       0.84      0.84      0.84     25000\n",
      "\n"
     ]
    }
   ],
   "source": [
    "from sklearn.naive_bayes import BernoulliNB\n",
    "\n",
    "nb = BernoulliNB()\n",
    "nb.fit(x_train_binary, y_train)\n",
    "print(classification_report(y_test, nb.predict(x_test_binary)))"
   ]
  },
  {
   "cell_type": "code",
   "execution_count": 22,
   "metadata": {
    "id": "FE3vlwaic7jw"
   },
   "outputs": [],
   "source": [
    "from sklearn.model_selection import train_test_split\n",
    "x_train_binary, x_dev_binary, y_train, y_dev = train_test_split(x_train_binary, y_train,test_size=0.3)"
   ]
  },
  {
   "cell_type": "code",
   "execution_count": 23,
   "metadata": {
    "colab": {
     "base_uri": "https://localhost:8080/",
     "height": 439
    },
    "id": "r9aPOHU1_nrG",
    "outputId": "e63a1b7f-ba91-4b1c-c870-a37b0bda3cf1"
   },
   "outputs": [
    {
     "name": "stdout",
     "output_type": "stream",
     "text": [
      "(3500, 3998)\n",
      "(3500,)\n",
      "(7000, 3998)\n",
      "(7000,)\n",
      "(10500, 3998)\n",
      "(10500,)\n",
      "(14000, 3998)\n",
      "(14000,)\n",
      "(17500, 3998)\n",
      "(17500,)\n"
     ]
    },
    {
     "data": {
      "image/png": "[encoded data removed]",
      "text/plain": [
       "<Figure size 432x288 with 1 Axes>"
      ]
     },
     "metadata": {
      "needs_background": "light"
     },
     "output_type": "display_data"
    }
   ],
   "source": [
    "from sklearn.metrics import accuracy_score\n",
    "import matplotlib.pyplot as plt\n",
    "def custom_learning_curve(x_train_binary, y_train,\n",
    "                          x_dev_binary, y_dev, x_test_binary, y_test_binary,\n",
    "                          n_splits):\n",
    "  split_size = int(len(x_train_binary) / n_splits)\n",
    "  x_splits = np.split(x_train_binary, n_splits) # must be equal division\n",
    "  y_splits = np.split(y_train, n_splits)\n",
    "  train_accuracies = list()\n",
    "  val_accuracies = list()\n",
    "  test_accuracies = list()\n",
    "  curr_x = x_splits[0]\n",
    "  print(curr_x.shape)\n",
    "  curr_y = y_splits[0]\n",
    "  print(curr_y.shape)\n",
    "  lists=fit(curr_x,curr_y)\n",
    "  predictions=predict(lists[0],lists[1],lists[2],lists[3],curr_x)\n",
    "  train_accuracies.append(accuracy_score(curr_y,predictions))\n",
    "  predictions=predict(lists[0],lists[1],lists[2],lists[3],x_dev_binary)\n",
    "  val_accuracies.append(accuracy_score(y_dev, predictions))\n",
    "  predictions=predict(lists[0],lists[1],lists[2],lists[3],x_test_binary)\n",
    "  test_accuracies.append(accuracy_score(y_test, predictions))\n",
    "\n",
    "  for i in range(1, len(x_splits)):\n",
    "    \n",
    "    curr_x = np.concatenate((curr_x, x_splits[i]), axis=0)\n",
    "    print(curr_x.shape)\n",
    "    curr_y = np.concatenate((curr_y, y_splits[i]), axis=0)\n",
    "    print(curr_y.shape)\n",
    "    lists=fit(curr_x,curr_y)\n",
    "    predictions=predict(lists[0],lists[1],lists[2],lists[3],curr_x)\n",
    "    train_accuracies.append(accuracy_score(curr_y, predictions))\n",
    "    predictions=predict(lists[0],lists[1],lists[2],lists[3],x_dev_binary)\n",
    "    val_accuracies.append(accuracy_score(y_dev, predictions))\n",
    "    predictions=predict(lists[0],lists[1],lists[2],lists[3],x_test_binary)\n",
    "    test_accuracies.append(accuracy_score(y_test, predictions))\n",
    "\n",
    "  plt.plot(list(range(split_size, len(x_train_binary) + split_size, \n",
    "                      split_size)), train_accuracies, 'o-', color=\"b\",\n",
    "             label=\"Training accuracy\")\n",
    "  plt.plot(list(range(split_size, len(x_train_binary) + split_size, \n",
    "                      split_size)), val_accuracies, 'o-', color=\"green\",\n",
    "           label=\"Validation accuracy\")\n",
    "  plt.plot(list(range(split_size, len(x_train_binary) + split_size, \n",
    "                      split_size)), test_accuracies, 'o-', color=\"red\",\n",
    "           label=\"Testing accuracy\")\n",
    "  plt.legend(loc=\"lower right\")\n",
    "  plt.show()\n",
    "\n",
    "custom_learning_curve(x_train_binary, y_train,\n",
    "                      x_dev_binary, y_dev, x_test_binary,\n",
    "                      y_test, n_splits=5)"
   ]
  },
  {
   "cell_type": "code",
   "execution_count": 24,
   "metadata": {
    "colab": {
     "base_uri": "https://localhost:8080/",
     "height": 443
    },
    "id": "jz45fQAB0Nct",
    "outputId": "41946f40-37be-446b-f1aa-ee5e3b832491"
   },
   "outputs": [
    {
     "name": "stdout",
     "output_type": "stream",
     "text": [
      "(3500, 3998)\n",
      "(3500,)\n",
      "(7000, 3998)\n",
      "(7000,)\n",
      "(10500, 3998)\n",
      "(10500,)\n",
      "(14000, 3998)\n",
      "(14000,)\n",
      "(17500, 3998)\n",
      "(17500,)\n"
     ]
    },
    {
     "data": {
      "image/png": "[encoded data removed]",
      "text/plain": [
       "<Figure size 432x288 with 1 Axes>"
      ]
     },
     "metadata": {
      "needs_background": "light"
     },
     "output_type": "display_data"
    }
   ],
   "source": [
    "from sklearn.metrics import accuracy_score\n",
    "import matplotlib.pyplot as plt\n",
    "def custom_learning_curveΒ(x_train_binary, y_train,\n",
    "                          x_dev_binary, y_dev, x_test_binary, y_test_binary,\n",
    "                          n_splits):\n",
    "  split_size = int(len(x_train_binary) / n_splits)\n",
    "  x_splits = np.split(x_train_binary, n_splits) # must be equal division\n",
    "  y_splits = np.split(y_train, n_splits)\n",
    "  train_accuracies = list()\n",
    "  val_accuracies = list()\n",
    "  test_accuracies = list()\n",
    "  curr_x = x_splits[0]\n",
    "  print(curr_x.shape)\n",
    "  curr_y = y_splits[0]\n",
    "  print(curr_y.shape)\n",
    "  nb.fit(curr_x,curr_y)\n",
    "  train_accuracies.append(accuracy_score(curr_y,nb.predict(curr_x)))\n",
    "  val_accuracies.append(accuracy_score(y_dev, nb.predict(x_dev_binary)))\n",
    "  test_accuracies.append(accuracy_score(y_test, nb.predict(x_test_binary)))\n",
    "  for i in range(1, len(x_splits)):\n",
    "    curr_x = np.concatenate((curr_x, x_splits[i]), axis=0)\n",
    "    print(curr_x.shape)\n",
    "    curr_y = np.concatenate((curr_y, y_splits[i]), axis=0)\n",
    "    print(curr_y.shape)\n",
    "    train_accuracies.append(accuracy_score(curr_y, nb.predict(curr_x)))\n",
    "    val_accuracies.append(accuracy_score(y_dev, nb.predict(x_dev_binary)))\n",
    "    test_accuracies.append(accuracy_score(y_test, nb.predict(x_test_binary)))\n",
    "\n",
    "  plt.plot(list(range(split_size, len(x_train_binary) + split_size, \n",
    "                      split_size)), train_accuracies, 'o-', color=\"b\",\n",
    "             label=\"Training accuracy\")\n",
    "  plt.plot(list(range(split_size, len(x_train_binary) + split_size, \n",
    "                      split_size)), val_accuracies, 'o-', color=\"green\",\n",
    "           label=\"Validation accuracy\")\n",
    "  plt.plot(list(range(split_size, len(x_train_binary) + split_size, \n",
    "                      split_size)), test_accuracies, 'o-', color=\"red\",\n",
    "           label=\"Testing accuracy\")\n",
    "  plt.legend(loc=\"lower right\")\n",
    "  plt.show()\n",
    "\n",
    "custom_learning_curveΒ(x_train_binary, y_train,\n",
    "                      x_dev_binary, y_dev, x_test_binary,\n",
    "                      y_test, n_splits=5)"
   ]
  }
 ],
 "metadata": {
  "colab": {
   "provenance": []
  },
  "kernelspec": {
   "display_name": "Python 3 (ipykernel)",
   "language": "python",
   "name": "python3"
  },
  "language_info": {
   "codemirror_mode": {
    "name": "ipython",
    "version": 3
   },
   "file_extension": ".py",
   "mimetype": "text/x-python",
   "name": "python",
   "nbconvert_exporter": "python",
   "pygments_lexer": "ipython3",
   "version": "3.10.5"
  }
 },
 "nbformat": 4,
 "nbformat_minor": 1
}
